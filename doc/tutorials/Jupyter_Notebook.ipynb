{
 "cells": [
  {
   "cell_type": "markdown",
   "metadata": {},
   "source": [
    "# Jupyter Notebook with SoS Kernel"
   ]
  },
  {
   "cell_type": "markdown",
   "metadata": {},
   "source": [
    "Jupyter notebook is a web application that allows you to create documents with live code and results. The underlying interpreters of the cells are called **kernel**. For example, you can use a `python` kernel to interpret python expressions, or a `ir` kernel to interpret `R` commands. You can use sos within a `python` kernel by loading the `sos_magic` ipython extension, or use a `sos` kernel to create a complete SoS environment. In addition to the ability to execute SoS workflows within Jupyter, the SoS kernel allows you to start subkernels (e.g. `ir`) and switch between the subkernels in the same notebook. That allows you to freely mix code in different languages in the same notebook."
   ]
  },
  {
   "cell_type": "markdown",
   "metadata": {},
   "source": [
    "## Installing the SoS kernel"
   ]
  },
  {
   "cell_type": "markdown",
   "metadata": {},
   "source": [
    "The SoS installation process will install a SoS kernel by default. To verify if you have the sos kernel installed, use command `jupyter kernelspec list` from command line (here we use the `!` magic to run commands from Jupyter notebook):"
   ]
  },
  {
   "cell_type": "code",
   "execution_count": 1,
   "metadata": {
    "collapsed": false
   },
   "outputs": [
    {
     "name": "stdout",
     "output_type": "stream",
     "text": [
      "Available kernels:\n",
      "  python3    /Users/bpeng1/anaconda/lib/python3.5/site-packages/ipykernel/resources\n",
      "  bash       /Users/bpeng1/Library/Jupyter/kernels/bash\n",
      "  ir         /Users/bpeng1/Library/Jupyter/kernels/ir\n",
      "  sos        /Users/bpeng1/anaconda/share/jupyter/kernels/sos\n"
     ]
    }
   ],
   "source": [
    "!jupyter kernelspec list"
   ]
  },
  {
   "cell_type": "markdown",
   "metadata": {},
   "source": [
    "and check if you have `sos` listed as one of the kernels. If not, try to re-install SoS using `pip3 install sos --upgrade` or clone SoS locally and run `python setup.py install`. At the end of the installation process, you should see\n",
    "```\n",
    "IPython kernel named \"sos\" is installed.\n",
    "```\n",
    "If the kernel is installed, fire Jupyter using command\n",
    "```\n",
    "$ jupyter notebook\n",
    "```\n",
    "from the `New` button to the top right corner, select `SoS`, and create a SoS notebook.\n",
    "\n",
    "SoS uses [imagemagick](http://www.imagemagick.org/script/index.php) and python package [`wand`](http://docs.wand-py.org/en/0.4.2/) to preview output files so it is recommended that you install imagemagick."
   ]
  },
  {
   "cell_type": "markdown",
   "metadata": {},
   "source": [
    "## Convert a SoS workflow to Jupyter notebook"
   ]
  },
  {
   "cell_type": "markdown",
   "metadata": {},
   "source": [
    "You can convert an existing SoS script to the `.ipynb` format using command\n",
    "```\n",
    "$ sos convert myscript.sos myscript.ipynb\n",
    "```\n",
    "\n",
    "and open the resulting notebook from the web interface. The converter uses lines that starts with `%cell` to split SoS a script into cells in Jupyter notebook.\n"
   ]
  },
  {
   "cell_type": "markdown",
   "metadata": {},
   "source": [
    "## Using the SoS kernel"
   ]
  },
  {
   "cell_type": "markdown",
   "metadata": {},
   "source": [
    "You can enter any SoS expression and statements in a Jupyter notebook but each cell needs to be a valid SoS script. That is to say, \n",
    "\n",
    "* You can enter any Python expression and statements. For example, you can write pieces of SoS code and evaluate them"
   ]
  },
  {
   "cell_type": "code",
   "execution_count": 2,
   "metadata": {
    "collapsed": true
   },
   "outputs": [],
   "source": [
    "res_path = '/path/to/resource'\n",
    "ref_genome = \"${res_path}/hg19\""
   ]
  },
  {
   "cell_type": "markdown",
   "metadata": {},
   "source": [
    "* You can enter any SoS actions in function or script format. For example, you can execute a shell script using"
   ]
  },
  {
   "cell_type": "code",
   "execution_count": 3,
   "metadata": {
    "collapsed": false
   },
   "outputs": [
    {
     "name": "stdout",
     "output_type": "stream",
     "text": [
      "Reference genome is located at /path/to/resource/hg19\n"
     ]
    }
   ],
   "source": [
    "run:\n",
    "    echo Reference genome is located at ${ref_genome}\n"
   ]
  },
  {
   "cell_type": "markdown",
   "metadata": {},
   "source": [
    "* You can create markdown cells to document your workflow. These cells are not evaluated by SoS so string interpolations are not available to these cells.\n",
    "\n",
    "* Enter complete SoS steps with or without headers. "
   ]
  },
  {
   "cell_type": "code",
   "execution_count": 4,
   "metadata": {
    "collapsed": false
   },
   "outputs": [
    {
     "name": "stdout",
     "output_type": "stream",
     "text": [
      "I am in default_10\n",
      "I am in default_20\n",
      "I am in default_30\n"
     ]
    }
   ],
   "source": [
    "[10]\n",
    "print(\"I am in ${step_name}\")\n",
    "[20]\n",
    "print(\"I am in ${step_name}\")\n",
    "[30]\n",
    "print(\"I am in ${step_name}\")"
   ]
  },
  {
   "cell_type": "markdown",
   "metadata": {},
   "source": [
    "## SOS Magics"
   ]
  },
  {
   "cell_type": "markdown",
   "metadata": {},
   "source": [
    "In addition to SoS statements, you can use a few SoS magics in Jupyter notebook. They are similar to ipython sos magics but the syntax are a bit different. SoS magics have to be specified at the beginning of a cell although multiple magics could be used in a single cell. SoS supports the following jupyter magics:"
   ]
  },
  {
   "cell_type": "markdown",
   "metadata": {},
   "source": [
    "###  `%use kernel` "
   ]
  },
  {
   "cell_type": "markdown",
   "metadata": {},
   "source": [
    "   This magic starts (or switches to) an alternative jupyter kernel to which expanded code (with string interpolation) will be sent. Kernel set by `%use kernel` will be persistent, affecting all subsequent cells.\n",
    "\n",
    "   `kernel` can be any [Jupyter supported kernels](https://github.com/ipython/ipython/wiki/IPython-kernels-for-other-languages). In particular, you can use `ir` for R kernel (alias `R` is also acceptable), `python3` for python3, `iperl` for perl, `bash` for bash. Please refer to [IRKernel](https://github.com/IRkernel/IRkernel) for instructions on how to install the `ir` kernel for `R`.\n",
    "\n",
    "   `%use` magic accepts parameters `--in (-i)` and `--out (-o)`, which are variables that will be transferred to the subkernel after starting (or switching to) the subkernel, and variables that will be transferred back to SoS before magic `%use sos`. More specifically,"
   ]
  },
  {
   "cell_type": "code",
   "execution_count": 5,
   "metadata": {
    "collapsed": true
   },
   "outputs": [],
   "source": [
    "n = 5"
   ]
  },
  {
   "cell_type": "code",
   "execution_count": 6,
   "metadata": {
    "collapsed": true
   },
   "outputs": [],
   "source": [
    "%use R -i n -o ran\n",
    "ran <- rnorm(n)"
   ]
  },
  {
   "cell_type": "code",
   "execution_count": 7,
   "metadata": {
    "collapsed": false
   },
   "outputs": [
    {
     "data": {
      "text/plain": [
       "[-1.27611059818933,\n",
       " 2.18814238543164,\n",
       " 1.48379974109028,\n",
       " -1.09395128239875,\n",
       " -1.56521646583435]"
      ]
     },
     "execution_count": 7,
     "metadata": {},
     "output_type": "execute_result"
    }
   ],
   "source": [
    "%use sos\n",
    "ran"
   ]
  },
  {
   "cell_type": "markdown",
   "metadata": {},
   "source": [
    "  is equivalent to"
   ]
  },
  {
   "cell_type": "code",
   "execution_count": 8,
   "metadata": {
    "collapsed": true
   },
   "outputs": [],
   "source": [
    "%use R\n",
    "%get n\n",
    "ran <- rnorm(n)"
   ]
  },
  {
   "cell_type": "code",
   "execution_count": 9,
   "metadata": {
    "collapsed": false
   },
   "outputs": [
    {
     "data": {
      "text/plain": [
       "[-1.42407652720487,\n",
       " -0.0515974072056542,\n",
       " 0.711202366758376,\n",
       " -1.42605338750391,\n",
       " 0.410584345620182]"
      ]
     },
     "execution_count": 9,
     "metadata": {},
     "output_type": "execute_result"
    }
   ],
   "source": [
    "%put ran\n",
    "%use sos\n",
    "ran"
   ]
  },
  {
   "cell_type": "markdown",
   "metadata": {},
   "source": [
    "### `%with kernel`"
   ]
  },
  {
   "cell_type": "markdown",
   "metadata": {},
   "source": [
    "  `%with kernel` also starts (or switches to) a subkernel, but kernel specified by `%with kernel` will be reset as soon as the cell is executed. This magic is therefore suitable for a quick errand to another kernel. This magic also accepts options `--in` (or `-i`) and `--out` (or `-o`), so you could use"
   ]
  },
  {
   "cell_type": "code",
   "execution_count": 10,
   "metadata": {
    "collapsed": true
   },
   "outputs": [],
   "source": [
    "%use R -i n -o ran\n",
    "ran <- rnorm(n)"
   ]
  },
  {
   "cell_type": "markdown",
   "metadata": {},
   "source": [
    "to get a list of normally distributed numbers using R's `rnorm` function."
   ]
  },
  {
   "cell_type": "markdown",
   "metadata": {},
   "source": [
    "### `%preview [filename1] [filename2] [expr1] [expr2] ...`"
   ]
  },
  {
   "cell_type": "markdown",
   "metadata": {},
   "source": [
    "The `%preview` magic preview the content of specified files or values of specified expressions **after** the execution of the current cell. For example, in a subkernel R, you can do"
   ]
  },
  {
   "cell_type": "code",
   "execution_count": 11,
   "metadata": {
    "collapsed": false
   },
   "outputs": [],
   "source": [
    "%use R"
   ]
  },
  {
   "cell_type": "code",
   "execution_count": 12,
   "metadata": {
    "collapsed": false,
    "scrolled": true
   },
   "outputs": [
    {
     "data": {
      "text/html": [
       "<strong>pdf:</strong> 2"
      ],
      "text/latex": [
       "\\textbf{pdf:} 2"
      ],
      "text/markdown": [
       "**pdf:** 2"
      ],
      "text/plain": [
       "pdf \n",
       "  2 "
      ]
     },
     "metadata": {},
     "output_type": "display_data"
    },
    {
     "data": {
      "text/html": [
       "<pre><font color=\"green\">## %preview a.png</font></pre>"
      ]
     },
     "metadata": {},
     "output_type": "display_data"
    },
    {
     "data": {
      "text/html": [
       "<pre><font color=\"green\">> a.png (13.5 KiB):</font></pre>"
      ],
      "text/plain": [
       "\n",
       "> a.png (13.5 KiB):"
      ]
     },
     "metadata": {},
     "output_type": "display_data"
    },
    {
     "data": {
      "image/png": "[encoded data removed]"
     },
     "metadata": {},
     "output_type": "display_data"
    }
   ],
   "source": [
    "%preview a.png\n",
    "png('a.png')\n",
    "plot(seq(1,10))\n",
    "dev.off()"
   ]
  },
  {
   "cell_type": "markdown",
   "metadata": {},
   "source": [
    "to preview `a.png` generated by this step. Note that SoS automatically previews output files of SoS statements specified by the `output:` directive, but `output:` does not work for subkernels."
   ]
  },
  {
   "cell_type": "markdown",
   "metadata": {},
   "source": [
    "The magic also accept sos variable and expressions. For example,"
   ]
  },
  {
   "cell_type": "code",
   "execution_count": 13,
   "metadata": {
    "collapsed": false
   },
   "outputs": [
    {
     "data": {
      "text/html": [
       "<pre><font color=\"green\">## %preview data</font></pre>"
      ]
     },
     "metadata": {},
     "output_type": "display_data"
    },
    {
     "data": {
      "text/html": [
       "<pre><font color=\"green\">> data:</font></pre>"
      ],
      "text/plain": [
       ">>> data:\n"
      ]
     },
     "metadata": {},
     "output_type": "display_data"
    },
    {
     "data": {
      "text/html": [
       "<div>\n",
       "<table border=\"1\" class=\"dataframe\">\n",
       "  <thead>\n",
       "    <tr style=\"text-align: right;\">\n",
       "      <th></th>\n",
       "      <th>one</th>\n",
       "      <th>two</th>\n",
       "    </tr>\n",
       "  </thead>\n",
       "  <tbody>\n",
       "    <tr>\n",
       "      <th>a</th>\n",
       "      <td>1.0</td>\n",
       "      <td>1.0</td>\n",
       "    </tr>\n",
       "    <tr>\n",
       "      <th>b</th>\n",
       "      <td>2.0</td>\n",
       "      <td>2.0</td>\n",
       "    </tr>\n",
       "    <tr>\n",
       "      <th>c</th>\n",
       "      <td>3.0</td>\n",
       "      <td>3.0</td>\n",
       "    </tr>\n",
       "    <tr>\n",
       "      <th>d</th>\n",
       "      <td>NaN</td>\n",
       "      <td>4.0</td>\n",
       "    </tr>\n",
       "  </tbody>\n",
       "</table>\n",
       "</div>"
      ],
      "text/plain": [
       "   one  two\n",
       "a  1.0  1.0\n",
       "b  2.0  2.0\n",
       "c  3.0  3.0\n",
       "d  NaN  4.0"
      ]
     },
     "metadata": {},
     "output_type": "display_data"
    }
   ],
   "source": [
    "%use sos\n",
    "%preview data\n",
    "import pandas as pd\n",
    "data = pd.DataFrame({\n",
    "    'one' : pd.Series([1., 2., 3.], index=['a', 'b', 'c']),\n",
    "    'two' : pd.Series([1., 2., 3., 4.], index=['a', 'b', 'c', 'd'])})"
   ]
  },
  {
   "cell_type": "markdown",
   "metadata": {},
   "source": [
    "would display the content of the pandas `DataFrame`. You can specify any Python (sos) expression for this magic but, similar to command line arguments, you will need to quote the expression if it contains spaces. For example,"
   ]
  },
  {
   "cell_type": "code",
   "execution_count": 14,
   "metadata": {
    "collapsed": false
   },
   "outputs": [
    {
     "data": {
      "text/html": [
       "<pre><font color=\"green\">## %preview data['one']</font></pre>"
      ]
     },
     "metadata": {},
     "output_type": "display_data"
    },
    {
     "data": {
      "text/html": [
       "<pre><font color=\"green\">> data['one']:</font></pre>"
      ],
      "text/plain": [
       ">>> data['one']:\n"
      ]
     },
     "metadata": {},
     "output_type": "display_data"
    },
    {
     "data": {
      "text/plain": [
       "a    1.0\n",
       "b    2.0\n",
       "c    3.0\n",
       "d    NaN\n",
       "Name: one, dtype: float64"
      ]
     },
     "metadata": {},
     "output_type": "display_data"
    }
   ],
   "source": [
    "%preview data['one']\n",
    "data = pd.DataFrame({\n",
    "    'one' : pd.Series([1., 2., 3.], index=['a', 'b', 'c']),\n",
    "    'two' : pd.Series([1., 2., 3., 4.], index=['a', 'b', 'c', 'd'])})"
   ]
  },
  {
   "cell_type": "markdown",
   "metadata": {},
   "source": [
    "### `%put` (`ir` and `python` kernels only)"
   ]
  },
  {
   "cell_type": "markdown",
   "metadata": {},
   "source": [
    "Magics `%put` are used to return results from subkernel to SoS kernel when the current kernel is a subkernel started by magic `%use`. Only the `ir` and `python` kernels are supported now. Whereas there is virtually no limit on exchangeable datatypes between `SoS` and `python` kernels, there are no perfect map between Python (SoS) and `R` datatypes so SoS tries to find the best match between data types. More specifically,\n",
    "\n",
    "  \n",
    "  | R  |  length (n) |   Python |\n",
    "  | --- | --- |---|\n",
    "  | NULL | |    None |\n",
    "  | logical |  1 |  boolean |\n",
    "  | integer |  1 |  integer |\n",
    "  | numeric |  1 |  double |\n",
    "  | character |  1 |  unicode |\n",
    "  | logical |  n > 1 |  list |\n",
    "  | integer |  n > 1 |  list |\n",
    "  | numeric |  n > 1 |  list |\n",
    "  | character |  n > 1 |  list |\n",
    "  | list without names |  n > 0 |  list |\n",
    "  | list with names |  n > 0 |  dict |\n",
    "  | matrix |  n > 0 |  numpy.array |\n",
    "  | data.frame |  n > 0 |  DataFrame |"
   ]
  },
  {
   "cell_type": "markdown",
   "metadata": {},
   "source": [
    "### `%get` (`ir` and `python` kernels only)"
   ]
  },
  {
   "cell_type": "markdown",
   "metadata": {},
   "source": [
    "Magics `%get` retrieve variables from the SoS to the current subkernel started by magic `%use`. Only the `ir` and `python` kernels are supported now. SoS tries to use the best matching data type for the conversion. More specifically,\n",
    "\n",
    "  \n",
    "  | Python  |  cond |   R |\n",
    "  | --- | --- |---|\n",
    "  | None | |    NULL |\n",
    "  | boolean |   | logical |\n",
    "  | integer |  |  integer |\n",
    "  | float |  |  float |\n",
    "  | str |  | character |\n",
    "  | Sequence (list, tuple, ...) |  homogenous type |  c() |\n",
    "  | Sequence (list, tuple, ...) |  multiple types |  list |\n",
    "  | set |  |  list |\n",
    "  | dictionary |  |  list with names |\n",
    "  | numpy.ndarray |  | c() array |\n",
    "  | numpy.matrix |  | matrix |\n",
    "  | pandas.DataFrame |  |  R data.frame |\n",
    "\n",
    "  Python objects in other datatypes are transferred as string `\"Unsupported datatype\"`."
   ]
  },
  {
   "cell_type": "markdown",
   "metadata": {},
   "source": [
    "### `%paste [command-options] [workflow-options]`"
   ]
  },
  {
   "cell_type": "markdown",
   "metadata": {},
   "source": [
    "This magic pastes content of clipboard to the cell and execute the cell. It is similar but sometimes more convenient than pasting the content using system shortcuts such as `Cmd-V` (mac)."
   ]
  },
  {
   "cell_type": "markdown",
   "metadata": {},
   "source": [
    "### `%run [command-options] [workflow-options]`"
   ]
  },
  {
   "cell_type": "markdown",
   "metadata": {},
   "source": [
    "The `%sos` magic allows you to specify SoS options such as `-v` (verbosity), `-j` (max number of jobs), and workflow options as defined by `parameter:` keyword."
   ]
  },
  {
   "cell_type": "markdown",
   "metadata": {},
   "source": [
    "### `%set [command-options] [workflow-options]`"
   ]
  },
  {
   "cell_type": "markdown",
   "metadata": {},
   "source": [
    "The `%set` magic sets a persistent sos options so you do not have to enter them each time after `%run` or `%paste`. For example, if you set `%set -v3`, you can execute all cells in the notebook at verbosity level 3 (`DEBUG`).\n",
    "\n",
    "### `%matplotlib [GUI]`\n",
    "\n",
    "Similar to ipython's `matplotlib` magic, the `%matplotlib inline` magic allows the display of matplotlib figures inline in Jupyter notebook or qtconsole."
   ]
  },
  {
   "cell_type": "markdown",
   "metadata": {},
   "source": [
    "### `%restart kernel`\n",
    "\n",
    "`%restart` specified kernel without affecting the current working kernel. "
   ]
  },
  {
   "cell_type": "markdown",
   "metadata": {},
   "source": [
    "### `%dict [--reset] [--keys] [--all] var1 var2` \n",
    "\n",
    "The `%dict` magic lists or rests the content of SoS dict, using syntax\n",
    "\n",
    "    ```\n",
    "    %dict [-a|-all] [-k|--keys] [-r|--reset] [var1] [var2] ...\n",
    "    ```\n",
    "\n",
    "    where\n",
    "\n",
    "    * `var1`, `var2` etc are name of variables. All variables will be displayed if no variable is specified.\n",
    "    * `-a|-all`: list all dictionary keys, including SoS functions and variables.\n",
    "    * `-k|--keys`: list only keys, not their values\n",
    "    * `-r|--reset`: reset the dictionary to its original content (with only SoS internal values)"
   ]
  },
  {
   "cell_type": "markdown",
   "metadata": {},
   "source": [
    "### `%cd dir`\n",
    "\n",
    "Change current working directory to `dir`."
   ]
  },
  {
   "cell_type": "markdown",
   "metadata": {},
   "source": [
    "### `!any-shell-command` such as `!ls` and `!pwd`\n",
    "\n",
    "If any other command is entered after `!`, sos will treat the rest of the line as a shell command and execute it. Only single-line commands are supported. String interpolation is supported. Note that `!cd` does not change the current working directory because the command is executed in a separate process. Use magic `%cd` for that purpose."
   ]
  },
  {
   "cell_type": "markdown",
   "metadata": {},
   "source": [
    "## Convert `.ipynb` files to `.sos`\n",
    "\n",
    "You can save the notebook to a SoS script using `File` -> `Download As` -> `SoS`, or using command\n",
    "\n",
    "```\n",
    "$ sos convert myscript.ipynb --sos myscript.sos\n",
    "```\n",
    "\n",
    "The conversion process will strip all results (which can be useful if you would like to version control your notebook without results) but keep cell information and SoS magics. However, **SoS files converted from Jupyter notebook cannot be executed by the `sos` command if they contain SoS magics such as `%use R`** because of non-interactive execution of SoS steps and more rigorous structure required for SoS scripts. You will generally need to "
   ]
  }
 ],
 "metadata": {
  "anaconda-cloud": {},
  "kernelspec": {
   "display_name": "SoS",
   "language": "sos",
   "name": "sos"
  },
  "language_info": {
   "codemirror_mode": "sos",
   "file_extension": ".sos",
   "mimetype": "text/x-sos",
   "name": "sos",
   "nbconvert_exporter": "sos.kernel.SoS_Exporter",
   "pygments_lexer": "sos"
  }
 },
 "nbformat": 4,
 "nbformat_minor": 1
}
