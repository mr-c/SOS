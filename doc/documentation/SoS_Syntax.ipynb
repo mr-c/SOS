{
 "cells": [
  {
   "cell_type": "markdown",
   "metadata": {},
   "source": [
    "# SoS Syntax"
   ]
  },
  {
   "cell_type": "markdown",
   "metadata": {},
   "source": [
    "SoS uses [Python](http://www.python.org) expressions and statements. If you are unfamiliar with Python, you can learn some basics of Python, usually in less than half a day, by reading some Python tutorials (e.g. [the official python tutorial](https://docs.python.org/3/tutorial/)). This [short introduction](https://docs.python.org/3/tutorial/introduction.html) is good enough for you to get started.\n",
    "\n",
    "SoS introduces the following SoS-specific syntax:\n",
    "\n",
    "* A flexible string interpolation syntax to interpolate expressions in string literals using SoS defined sigil.\n",
    "* `[names: options]` line to define steps of workflows\n",
    "* special directives such as `input:` to specify input, output, and dependency targets of steps\n",
    "* A special script style of function calls for SoS actions\n",
    "* Preprocessors such as `%include`, `%if`, `%cell`, and `%set_options`"
   ]
  },
  {
   "cell_type": "markdown",
   "metadata": {},
   "source": [
    "## String interpolation\n",
    "\n",
    "This section has been converted to ipynb format."
   ]
  },
  {
   "cell_type": "markdown",
   "metadata": {},
   "source": [
    "## Section header for workflow steps\n",
    "\n",
    "SoS defines workflows that consists of multiple steps. A step is marked by a section head in the format of\n",
    "\n",
    "```\n",
    "[names: options]\n",
    "```\n",
    "\n",
    "The header should start with a `[` from the beginning of a line and end with a `]`. It can contain one or more names with optional section options. "
   ]
  },
  {
   "cell_type": "markdown",
   "metadata": {},
   "source": [
    "## SoS directives\n",
    "\n",
    "SoS introduces a number of directives to specify elements of workflows, including\n",
    "\n",
    "* `parameter:` to define command line options\n",
    "* `input:`, `output:`, `depends:` to define input, output, and dependent files of workflow steps, and \n",
    "* `task:` to define (long) tasks that will be executed as separate tasks"
   ]
  },
  {
   "cell_type": "markdown",
   "metadata": {},
   "source": [
    "## Script style function\n",
    "\n",
    "SoS allows you to write SoS `action` (basically a Python function) in a special script format. For example,\n",
    "\n",
    "```\n",
    "R('''\n",
    "pdf('${input}')\n",
    "plot(0, 0)\n",
    "dev.off()\n",
    "''', workdir='result')\n",
    "```\n",
    "\n",
    "can be written as\n",
    "\n",
    "```\n",
    "R:     workdir='result'\n",
    "pdf('${_input}')\n",
    "plot(0, 0)\n",
    "dev.off()\n",
    "```\n",
    "\n",
    "**The script is a string without quotation marks** and the normal string interpolation will take place. You can also indent the script (add leading white spaces to all lines) and write the action as\n",
    "\n",
    "```\n",
    "R:  workdir='result'\n",
    "   pdf('${_input}')\n",
    "   plot(0, 0)\n",
    "   dev.off()\n",
    "```\n",
    "\n",
    "The latter is much preferred because it avoids trouble if your script contains strings such as `[1]` and `option:` (and be treated as SoS directives), and more importantly, allows starting a new statement from a non-indented line. For example, `check_command('dot')` would be considered part of a R script in\n",
    "\n",
    "```\n",
    "R:  workdir='result'\n",
    "pdf('${_input}')\n",
    "plot(0, 0)\n",
    "dev.off()\n",
    "\n",
    "check_command('dot')\n",
    "```\n",
    "\n",
    "but a separate action in \n",
    "\n",
    "```\n",
    "R:  workdir='result'\n",
    "   pdf('${_input}')\n",
    "   plot(0, 0)\n",
    "   dev.off()\n",
    "\n",
    "check_command('dot')\n",
    "```\n",
    "\n",
    "Although the script format is more concise and easier to read, it is limited to actions that accept a string as its first parameter and cannot return value or be used within `try/except` of `if/else` statements.\n",
    "\n",
    "One final difference between SoS and regular Python 3 syntax is that SoS is more lenient on the use of mixed tab and spaces for indentation. Although it is highly recommended that you use all spaces for indentation, SoS will give an warning and treat tabs as 4 spaces during execution."
   ]
  },
  {
   "cell_type": "code",
   "execution_count": null,
   "metadata": {
    "collapsed": true
   },
   "outputs": [],
   "source": []
  }
 ],
 "metadata": {
  "anaconda-cloud": {},
  "kernelspec": {
   "display_name": "SoS",
   "language": "sos",
   "name": "sos"
  },
  "language_info": {
   "codemirror_mode": "sos",
   "file_extension": ".sos",
   "mimetype": "text/x-sos",
   "name": "sos",
   "nbconvert_exporter": "pysos.kernel.SoS_Exporter",
   "pygments_lexer": "sos"
  }
 },
 "nbformat": 4,
 "nbformat_minor": 1
}
