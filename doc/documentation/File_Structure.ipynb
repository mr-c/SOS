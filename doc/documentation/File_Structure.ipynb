{
 "cells": [
  {
   "cell_type": "markdown",
   "metadata": {},
   "source": [
    "# File Structure"
   ]
  },
  {
   "cell_type": "markdown",
   "metadata": {},
   "source": [
    "A SoS script usually starts with lines\n",
    "\n",
    "```python\n",
    "#!/usr/bin/env sos-runner\n",
    "#fileformat=SOS1.0\n",
    "```\n",
    "\n",
    "The first line allows the script to be executed by command `sos-runner` if it is executed as an executable script. The second line tells SoS the format of the script. The `#fileformat` line does not have to be the first or second line but should be in the first comment block. SOS format 1.0 is assumed if no format line is present."
   ]
  },
  {
   "cell_type": "markdown",
   "metadata": {},
   "source": [
    "## Global definitions\n",
    "\n",
    "Python functions, classes, variables can be defined or imported (using Python `import` statement) before any SoS step is defined. These definitions usually contains variables such as version and date of the script, paths to various resources, and utility functions that will be used by later steps. **These definitions are visible to all steps of workflows and are assumed to be readonly**.\n",
    "\n",
    "In addition to user-defined global variables, SoS defines the following variables before any variables are defined\n",
    "\n",
    "* **`SOS_VERSION`**: version of SoS command.\n",
    "* **`CONFIG`**: A dictionary of configurations specified by the global sos configuration file (`~/.sos/config.yaml`), local configuration file (`~/.sos/config.yaml`) and command line option `-c config_file`. \n",
    "* **`run_mode`**: A string indicating the run mode in which the script is executed, which can be `inspect`, `prepare` or `run`. Because the script and therefore all Python statements in the script will be executed in all three modes, this variable allows the execution of some statement only in selected modes."
   ]
  },
  {
   "cell_type": "markdown",
   "metadata": {},
   "source": [
    "## `%include` preprocessor\n",
    "\n",
    "SoS allows you to include variables and steps of another script into the current script using preprocessor `%include`. The `%include` statement should be used before any other SoS statements and follows the same syntax as the python `import` keyword. For example, the following statements are allowed\n",
    "\n",
    "```\n",
    "%include alignment\n",
    "%include alignment as ag\n",
    "%include alignment, calling\n",
    "%include alignment as ag, calling as ca\n",
    "\n",
    "%from alignment include *\n",
    "%from alignment include var1, workflow1\n",
    "%from alignment include workflow1 as wf\n",
    "```\n",
    "\n",
    "Similar to python `import` statement, variables and workflows included using the `%include ... as ...` syntax can be accessed using `module.name` (e.g. `alignment.var1`, `ag.var1` (for `include alignment as ag`)), whereas variables and workflows included using the `from ... include ...` syntax are available directly (e.g. `var1`, `workflow1`, and `wf` (for `workflow1 as wf`).\n",
    "\n",
    "For example\n",
    "\n",
    "```\n",
    "#!/usr/bin/env sos-runner\n",
    "#fileformat=SOS1.0\n",
    "\n",
    "%include alignment\n",
    "%include call\n",
    "[10]\n",
    "sos_run('alignment.default + call.default')\n",
    "```\n",
    "\n",
    "would execute two workflows defined in `alignment.sos` and `call.sos`. The files should be in SoS search path to be included."
   ]
  },
  {
   "cell_type": "markdown",
   "metadata": {},
   "source": [
    "## `%if .. %elif ..%else .. %endif`\n",
    "\n",
    "SoS allows you to conditionally include part of the script using macos `%if`, `%elif`, `%else`, and `%endif`. The condition in `%if cond` and `elif cond` should be valid python expression. The condition should not expand multiple lines and should not have trailing `:`. The conditions are evaluated at parsing time so no SoS variables are allowed. For example, you can write\n",
    "\n",
    "```\n",
    "%if sys.platform == 'darwin'\n",
    "\n",
    "[step]\n",
    "Mac OSX step\n",
    "\n",
    "%else\n",
    "\n",
    "[step]\n",
    "Linux step\n",
    "\n",
    "%endif\n",
    "```"
   ]
  },
  {
   "cell_type": "code",
   "execution_count": null,
   "metadata": {
    "collapsed": true
   },
   "outputs": [],
   "source": []
  },
  {
   "cell_type": "code",
   "execution_count": null,
   "metadata": {
    "collapsed": true
   },
   "outputs": [],
   "source": []
  }
 ],
 "metadata": {
  "kernelspec": {
   "display_name": "SoS",
   "language": "sos",
   "name": "sos"
  },
  "language_info": {
   "codemirror_mode": "sos",
   "file_extension": ".sos",
   "mimetype": "text/x-sos",
   "name": "sos",
   "nbconvert_exporter": "pysos.kernel.SoS_Exporter",
   "pygments_lexer": "sos"
  }
 },
 "nbformat": 4,
 "nbformat_minor": 1
}
