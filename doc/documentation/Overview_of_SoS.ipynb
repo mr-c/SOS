{
 "cells": [
  {
   "cell_type": "markdown",
   "metadata": {},
   "source": [
    "# Overview of SoS concepts"
   ]
  },
  {
   "cell_type": "markdown",
   "metadata": {},
   "source": [
    "A SoS **script** defines one or more **workflows**, and each workflow consists of one or more **steps**. \n",
    "\n",
    "![workflow](media/workflow.png)\n",
    "\n",
    "Although the input and output can be more general, each step typically has its **input**, **output**, and **dependents** files, it executes a **step process** that consists of one or more Python statements and SoS actions (special python functions). Part or all the step process, called **tasks**, can be executed and monitored externally.\n",
    "\n",
    "![sos_step](media/sos_step.png)\n",
    "\n",
    "A SoS script contains **comments**, **statements**, and one or more SoS **steps**. A SoS **step** consists of a **header**\n",
    "with one or more step names and optional options. The body of a SoS step consists of optional **comments**, \n",
    "**statements**, **input**, **output**, **depends** files, **parameter** definitions, followed by step **process**. The following figure \n",
    "shows a sample script that defines a workflow with two steps:\n",
    "\n",
    "![sample_script](media/sample_script.jpg)"
   ]
  },
  {
   "cell_type": "markdown",
   "metadata": {},
   "source": [
    "## Formal definitions of terminology & grammar"
   ]
  },
  {
   "cell_type": "markdown",
   "metadata": {},
   "source": [
    "* **Script**: A SoS script that defines one or more workflows.\n",
    "* **Workflow**: A sequence of processes that can be executed to complete certain task.\n",
    "* **Step**: A step of a workflow that perform one piece of the workflow.\n",
    "* **Target**: Objects that are input and result of a SoS step, which are usually files, but can also be objects such as an executable command (with variable locations), and a SoS variable.\n",
    "* **Step options**: Options of the step that assist the definition of the workflow.\n",
    "* **Step input**: Specifies the input files of the step.\n",
    "* **Step output**: Specifies the output files and targets of the step.\n",
    "* **Step dependencies**: Specifies the files and targets that are required by the step.\n",
    "* **Step process**: The process that a step executes to complete specified work, specified as one or more Python statements. \n",
    "* **Task**: Part or all step process that will be executed and monitored outside of SoS. These are usually resource intensive jobs that will take long time to complete.\n",
    "* **Action**: SoS or user-defined Python functions. They differ from regular Python functions in that they may behave differently in different running mode of SoS (e.g. ignore when executed in dryrun mode)."
   ]
  },
  {
   "cell_type": "markdown",
   "metadata": {},
   "source": [
    "More formally defined, the SoS syntax obeys the following grammar, given in extended Backus-Naur form (EBNF):\n",
    "\n",
    "```\n",
    "Script         = {comment}, {statement}, {step};\n",
    "comment        = \"#\", text, NEWLINE\n",
    "assignment     = name, \"=\", expression, NEWLINE\n",
    "```\n",
    "\n",
    "with SoS steps defined as\n",
    "\n",
    "```\n",
    "step           = step_header,\n",
    "                 {comment}, {{statement}, [input | output | depends ]},\n",
    "                 [process, NEWLINE, {script} ]\n",
    "step_header    = \"[\", section_names, [\":\", names | options], \"]\", NEWLINE\n",
    "parameter      = \"parameter\", \":\", assignment\n",
    "input          = \"input\", \":\", [expressions], [\",\", options], NEWLINE\n",
    "output         = \"output\", \":\", [expressions], [\",\", options], NEWLINE\n",
    "depends        = \"depends\", \":\", [expressions], [\",\", options], NEWLINE\n",
    "task           = \"task\", \":\",  [options]\n",
    "action         = func_format | script_format\n",
    "func_format    = name, \"(\", [options], \")\"\n",
    "script_format  = name, \":\", [options], NEWLINE, script \n",
    "section_names  = section_name, \",\", section_name\n",
    "section_name   = name, \"(\", text, \")\"\n",
    "names          = name, {\",\", name}\n",
    "workflow       = name, ['_', steps], {\"+\", name, ['_', steps}\n",
    "assignment     = name, \"=\", expression, NEWLINW\n",
    "expressions    = expression, {\",\", expression}\n",
    "options        = option, {\",\" option}\n",
    "option         = name, \"=\", expression\n",
    "```"
   ]
  },
  {
   "cell_type": "markdown",
   "metadata": {},
   "source": [
    "Here `name`, `expression` and `statement` are arbitrary [Python](http://www.python.org) names, expression and statements with added SoS features. **SoS requires Python 3 and does not support Python 2.x specific syntax**\n",
    "\n",
    "\n",
    "This documentation is a comprehensive reference to all SoS features. Please refer to this [SoS quick start tutorial](https://github.com/BoPeng/SOS/wiki/1.-Quick-Start) to learn some basics of SoS before diving into the details."
   ]
  },
  {
   "cell_type": "code",
   "execution_count": null,
   "metadata": {
    "collapsed": true
   },
   "outputs": [],
   "source": []
  }
 ],
 "metadata": {
  "anaconda-cloud": {},
  "kernelspec": {
   "display_name": "SoS",
   "language": "sos",
   "name": "sos"
  },
  "language_info": {
   "codemirror_mode": "sos",
   "file_extension": ".sos",
   "mimetype": "text/x-sos",
   "name": "sos",
   "nbconvert_exporter": "pysos.kernel.SoS_Exporter",
   "pygments_lexer": "sos"
  }
 },
 "nbformat": 4,
 "nbformat_minor": 1
}
