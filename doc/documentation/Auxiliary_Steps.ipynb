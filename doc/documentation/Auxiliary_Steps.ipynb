{
 "cells": [
  {
   "cell_type": "markdown",
   "metadata": {},
   "source": [
    "## Makefile-style steps"
   ]
  },
  {
   "cell_type": "markdown",
   "metadata": {},
   "source": [
    "Auxiliary steps are special steps that are used only when a target is needed but not available. Such steps are defined in the format of\n",
    "\n",
    "```python\n",
    "[step_name : provides=pattern]\n",
    "```\n",
    "\n",
    "where `pattern` can be\n",
    "\n",
    "* A file pattern such as `{sample}.bam.idx`\n",
    "* A `target` such as `executable(\"ms\")`\n",
    "* A list (sequence) of one or more file patterns and targets.\n",
    "\n",
    "When a target is required, SoS will look in the script for steps that provides such a target. It will then\n",
    "\n",
    "1. Create one or more variables defined by the pattern. For example, if the step matches to `AS123.bam.idx`, a variable named `sample` would be defined with value `AS123`.\n",
    "2. The default `input` of the step would be `None` instead of output of previous step because there is no previous step for auxiliary steps.\n",
    "3. The default `output` of the step would be the matched target, although you are free to generate more output files.\n",
    "\n",
    "For example, step\n",
    "\n",
    "```python\n",
    "[index_bam : provides='{sample}.bam.bai']\n",
    "input: '${sample}.bam'\n",
    "run:\n",
    "     samtools index ${input}\n",
    "```\n",
    "\n",
    "would be called when a target `AS123.bam.bai` is required. This step would have variable `sample` defined as `AS123`, default input `None`, and default output `[\"AS123.bam.bai\"]`. The input would be redefined by `input: ${sample}.bam` as `AS123.bam` and be passed to the `run` action.\n",
    "\n",
    "You might have already realized that an auxiliary step is a makefile style step and you can use this technique to build complete\n",
    "workflows in a way similar to [snakemake](https://bitbucket.org/johanneskoester/snakemake). That is to say, you can define multiple\n",
    "auxiliary steps (rules in snakemake's term) and let SoS determine what steps to execute depending on what workflow target to produce.\n",
    "You can even mix the forward, input-oriented style with backward, output-oriented style in SoS."
   ]
  },
  {
   "cell_type": "code",
   "execution_count": null,
   "metadata": {
    "collapsed": true
   },
   "outputs": [],
   "source": []
  }
 ],
 "metadata": {
  "anaconda-cloud": {},
  "kernelspec": {
   "display_name": "SoS",
   "language": "sos",
   "name": "sos"
  },
  "language_info": {
   "codemirror_mode": "sos",
   "file_extension": ".sos",
   "mimetype": "text/x-sos",
   "name": "sos",
   "nbconvert_exporter": "pysos.kernel.SoS_Exporter",
   "pygments_lexer": "sos"
  }
 },
 "nbformat": 4,
 "nbformat_minor": 1
}
