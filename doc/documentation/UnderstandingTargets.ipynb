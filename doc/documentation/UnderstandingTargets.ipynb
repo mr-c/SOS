{
 "cells": [
  {
   "cell_type": "markdown",
   "metadata": {},
   "source": [
    "# Understanding Targets"
   ]
  },
  {
   "cell_type": "markdown",
   "metadata": {},
   "source": [
    "Targets are objects that a SoS step can input, output, or dependent on. They are usually files that are presented by filenames, but can also be other targets."
   ]
  },
  {
   "cell_type": "markdown",
   "metadata": {},
   "source": [
    "### `executable` target"
   ]
  },
  {
   "cell_type": "markdown",
   "metadata": {},
   "source": [
    "`executable` targets are commands that should be accessible and executable by SoS. These targets are usually listed in the `depends` section of a SoS step. For example, SoS would stop if a command `fastqc` is not found."
   ]
  },
  {
   "cell_type": "code",
   "execution_count": 2,
   "metadata": {
    "collapsed": false
   },
   "outputs": [
    {
     "name": "stderr",
     "output_type": "stream",
     "text": [
      "No step to generate target a.fastq requested by default_10"
     ]
    }
   ],
   "source": [
    "[10]\n",
    "input:     'a.fastq'\n",
    "depends:   executable('fastqc')\n",
    "sh:\n",
    "    fastqc ${fastq_files}"
   ]
  },
  {
   "cell_type": "markdown",
   "metadata": {},
   "source": [
    "`executable` target can also be output of a step but installing executables can be tricky because the commands should be installed to existing `$PATH` so that they can be immediately accessible by SoS. Because SoS automatically adds `~/.sos/bin` to `$PATH` (option `-b`), an environment-neutral way for on-the-fly installation is to install commands to this directory. For example"
   ]
  },
  {
   "cell_type": "code",
   "execution_count": 3,
   "metadata": {
    "collapsed": true
   },
   "outputs": [],
   "source": [
    "[10: provides=executable('fastqc')]\n",
    "sh:\n",
    "    # download fastqc\n",
    "    # install fastqc\n",
    "    # link fastqc to ~/.sos/bin"
   ]
  },
  {
   "cell_type": "markdown",
   "metadata": {},
   "source": [
    "would be called if executable `fastqc` is not found.\n",
    "\n",
    "You can also have finer control over which version of the command is eligible by checking the output of commands. The complete syntax is\n",
    "\n",
    "```\n",
    "executable(command, version='', test_command=None)\n",
    "```\n",
    "where `test_command` should be a command to execute, and `version` should be one or more strings that should be contained in the output of `test_command`. `test_command` can be ignored if it is identical to `command`.\n",
    "\n",
    "For example, \n",
    "\n",
    "```\n",
    "executable('STAR', ['2.4.0', '2.5.0'], test_command='STAR --version')\n",
    "```\n",
    "\n",
    "checks the output of command `STAR --version` and declare non-existence of command `STAR` if the output does not contain string `2.4.0` or `2.5.0`."
   ]
  },
  {
   "cell_type": "markdown",
   "metadata": {},
   "source": [
    "## `sos_variable` target"
   ]
  },
  {
   "cell_type": "markdown",
   "metadata": {},
   "source": [
    "`sos_variable(name)` targets represent SoS variables that are created by a SoS step and shared to other steps. These targets can be used to provide information to other steps. For example,"
   ]
  },
  {
   "cell_type": "code",
   "execution_count": 4,
   "metadata": {
    "collapsed": false
   },
   "outputs": [
    {
     "name": "stderr",
     "output_type": "stream",
     "text": [
      "No step to generate target alignment/summary.txt requested by get_total_reads"
     ]
    }
   ],
   "source": [
    "[get_total_reads: shared='total_reads']\n",
    "input:  'alignment/summary.txt'\n",
    "with open(input[0]) as ifile:\n",
    "    ...\n",
    "    total_reads = int(...)\n",
    "\n",
    "\n",
    "[100]\n",
    "depends: sos_variable('total_reads')\n",
    "output:  'report.txt'\n",
    "\n",
    "with open(output[0]) as report:\n",
    "    report.write('total reads: ${total_reads}')\n",
    "\n"
   ]
  },
  {
   "cell_type": "markdown",
   "metadata": {},
   "source": [
    "Step `100` needed some information extracted from output of another step. You can either parse the information in step `100` or use another step to provide the information. The latter is recommended because the information could be requested by multiple steps."
   ]
  },
  {
   "cell_type": "markdown",
   "metadata": {},
   "source": [
    "### `R_library` target"
   ]
  },
  {
   "cell_type": "markdown",
   "metadata": {},
   "source": [
    "The `R_library` target represents a R library. If the libraries are not available, it will try to install it from [CRAN](https://cran.r-project.org/), [bioconductor](https://www.bioconductor.org/), or [github](https://github.com/). Github package name should be formatted as `repo/pkg`. A typical usage of this target would be"
   ]
  },
  {
   "cell_type": "markdown",
   "metadata": {},
   "source": [
    "```\n",
    "[10]\n",
    "output: 'test.jpg'\n",
    "depends: R_library('ggplot2')\n",
    "R:\n",
    "  library(ggplot2) \n",
    "  jpeg(${output!r})\n",
    "  qplot(Sepal.Length, Petal.Length, data = iris, color = Species)\n",
    "  dev.off()\n",
    "```"
   ]
  },
  {
   "cell_type": "markdown",
   "metadata": {},
   "source": [
    "`R_library` can also be used to check for specific versions of packages. For example:\n",
    "\n",
    "```\n",
    "R_library('edgeR', '3.12.0')\n",
    "```\n",
    "will result in a warning if edgeR version is not 3.12.0. You can specify multiple versions \n",
    "\n",
    "```\n",
    "R_library('edgeR', ['3.12.0', '3.12.1'])\n",
    "```\n",
    "\n",
    "certain version or newer,\n",
    "```\n",
    "R_library('edgeR', '3.12.0+')\n",
    "```\n",
    "\n",
    "certain version or older\n",
    "```\n",
    "check_R_library('ggplot2', '1.0.0-')\n",
    "```\n",
    "\n",
    "The default R library repo is `http://cran.us.r-project.org`. It is possible to customize the repo for which a R library would be installed, for example:\n",
    "\n",
    "```\n",
    "R_library('Rmosek', repos = \"http://download.mosek.com/R/7\")\n",
    "```"
   ]
  },
  {
   "cell_type": "markdown",
   "metadata": {},
   "source": [
    "## `env_variable` target"
   ]
  },
  {
   "cell_type": "markdown",
   "metadata": {},
   "source": [
    "SoS keeps tract of runtime environment and creates signatures of executed steps so that they do not have to be executed again. Some commands, especially shell scripts, could however behave differently with different environmental variables. To make sure a step would be re-executed with changing environments, you should list these variables as dependencies of the step. For example"
   ]
  },
  {
   "cell_type": "markdown",
   "metadata": {},
   "source": [
    "```\n",
    "[10]\n",
    "depends:   env_variable('DEBUG')\n",
    "sh:\n",
    "    echo DEBUG is set to $DEBUG\n",
    "```"
   ]
  },
  {
   "cell_type": "markdown",
   "metadata": {},
   "source": [
    "## `dynamic` target"
   ]
  },
  {
   "cell_type": "markdown",
   "metadata": {},
   "source": [
    "A `dynamic` target is a target that can only be determined when the step is actually executed. For example, the input of the following step would not be evaluated until step `20` is executed."
   ]
  },
  {
   "cell_type": "markdown",
   "metadata": {},
   "source": [
    "```\n",
    "[10]\n",
    "#\n",
    "# a step that generate some text with dynamically determined names\n",
    "#\n",
    "\n",
    "[20]\n",
    "input: dynamic('*.txt')"
   ]
  },
  {
   "cell_type": "markdown",
   "metadata": {},
   "source": [
    "\n",
    "In this particular case, if you specify\n",
    "\n",
    "```\n",
    "[20]\n",
    "input: '*.txt'\n",
    "\n",
    "```\n",
    "\n",
    "SoS would find all `.txt` files at the beginning of the execution of the workflow and feed them to step `20`."
   ]
  },
  {
   "cell_type": "code",
   "execution_count": null,
   "metadata": {
    "collapsed": true
   },
   "outputs": [],
   "source": []
  }
 ],
 "metadata": {
  "kernelspec": {
   "display_name": "SoS",
   "language": "sos",
   "name": "sos"
  },
  "language_info": {
   "codemirror_mode": "sos",
   "file_extension": ".sos",
   "mimetype": "text/x-sos",
   "name": "sos",
   "nbconvert_exporter": "sos.kernel.SoS_Exporter",
   "pygments_lexer": "sos"
  }
 },
 "nbformat": 4,
 "nbformat_minor": 0
}
