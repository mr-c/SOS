{
 "cells": [
  {
   "cell_type": "markdown",
   "metadata": {},
   "source": [
    "# Configuration Files"
   ]
  },
  {
   "cell_type": "markdown",
   "metadata": {},
   "source": [
    "The configuration files should be in the format of [`YAML`](http://yaml.org/) or its subset format [`JSON`](http://json-schema.org/implementations.html). Inside SoS script you can access these variables via, for example, either `CONFIG['gatk_path']` or `CONFIG.gatk_path`.\n",
    "\n",
    "The `-c` option allows the specification of a configuration file in YAML format. YAML is a superset of JSON so any configuration file in JSON format should also be acceptable. Variables defined in the configuration file are available in SoS script as a dictionary `CONFIG`. For example\n",
    "\n",
    "```\n",
    "gatk_path = CONFIG['gatk_path']\n",
    "```\n",
    "\n",
    "or equivalently\n",
    "\n",
    "```\n",
    "gatk_path = CONFIG.gatk_path\n",
    "```\n",
    "\n",
    "requires a configuration file with `gatk_path` defined. If you do not want to require a configuration file, you can define `gatk_path` as\n",
    "\n",
    "```\n",
    "gatk_path = CONFIG.get('gatk_path', '/path/to/default/gatk')\n",
    "```\n",
    "\n",
    "In this way, a default path would be used if no configuration file is specified (so `CONFIG` is an empty dictionary) or if `gatk_path` is not defined in the specified configuration file.\n",
    "\n",
    "If you would further want to allow modification of this value from command line, you can place this definition in the `[parameters]` section\n",
    "\n",
    "```\n",
    "[parameters]\n",
    "# path to gatk executable\n",
    "gatk_path = CONFIG.get('gatk_path', '/path/to/default/gatk')\n",
    "```\n",
    "\n",
    "In this way, users have the freedom to use the default value, define a value in a configuration file, and provide another value from command line. "
   ]
  },
  {
   "cell_type": "code",
   "execution_count": null,
   "metadata": {
    "collapsed": true
   },
   "outputs": [],
   "source": []
  }
 ],
 "metadata": {
  "anaconda-cloud": {},
  "kernelspec": {
   "display_name": "SoS",
   "language": "sos",
   "name": "sos"
  },
  "language_info": {
   "codemirror_mode": "sos",
   "file_extension": ".sos",
   "mimetype": "text/x-sos",
   "name": "sos",
   "nbconvert_exporter": "pysos.kernel.SoS_Exporter",
   "pygments_lexer": "sos"
  }
 },
 "nbformat": 4,
 "nbformat_minor": 1
}
