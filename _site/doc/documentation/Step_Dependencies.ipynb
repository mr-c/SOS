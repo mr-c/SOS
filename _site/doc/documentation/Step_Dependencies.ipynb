{
 "cells": [
  {
   "cell_type": "markdown",
   "metadata": {},
   "source": [
    "## Step dependencies"
   ]
  },
  {
   "cell_type": "markdown",
   "metadata": {},
   "source": [
    "This item specifies files that are required for the step. Although not required, it is a good practice to list resource files and other dependency files for a particular step. For example\n",
    "\n",
    "```python\n",
    "[10]\n",
    "input:\n",
    "\tfasta_files\n",
    "\n",
    "depends:\n",
    "\treference_seq\n",
    "\n",
    "```\n",
    "\n",
    "Similar to `output` options, dependent files can also be defined after `input` options and consist of\n",
    "dependent files determined from loop variables. \n",
    "\n",
    "The following figure summarizes the effect of `input`\n",
    "and `output` options and input options `group_by` and `for_each` on the flow\n",
    "of input and output files and related variables.\n",
    "\n",
    "[[/media/step_options.jpg]]"
   ]
  },
  {
   "cell_type": "code",
   "execution_count": null,
   "metadata": {
    "collapsed": true
   },
   "outputs": [],
   "source": []
  }
 ],
 "metadata": {
  "anaconda-cloud": {},
  "kernelspec": {
   "display_name": "SoS",
   "language": "sos",
   "name": "sos"
  },
  "language_info": {
   "codemirror_mode": "sos",
   "file_extension": ".sos",
   "mimetype": "text/x-sos",
   "name": "sos",
   "nbconvert_exporter": "pysos.kernel.SoS_Exporter",
   "pygments_lexer": "sos"
  }
 },
 "nbformat": 4,
 "nbformat_minor": 1
}
